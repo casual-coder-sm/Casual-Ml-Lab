{
 "cells": [
  {
   "cell_type": "code",
   "execution_count": null,
   "id": "6d66b291-ab2f-4eec-8f7a-1853d5be8436",
   "metadata": {},
   "outputs": [],
   "source": [
    "import torch"
   ]
  },
  {
   "cell_type": "markdown",
   "id": "4a190d16",
   "metadata": {},
   "source": [
    "# Get NVIDIA GPU with CUDA Status"
   ]
  },
  {
   "cell_type": "markdown",
   "id": "b3e03096",
   "metadata": {},
   "source": [
    "Sample Output in case of CUDA supported\n",
    "```\n",
    "CUDA supported\n",
    "Device Count   =  1\n",
    "Current Device =  0\n",
    "Device 0 Name  =  Tesla T4\n",
    "```"
   ]
  },
  {
   "cell_type": "code",
   "execution_count": null,
   "id": "85577e19",
   "metadata": {},
   "outputs": [],
   "source": [
    "flag = torch.cuda.is_available()\n",
    "if flag==True:\n",
    "    print('CUDA supported')\n",
    "    print('Device Count   = ',torch.cuda.device_count())\n",
    "    print('Current Device = ',torch.cuda.current_device())\n",
    "    print('Device 0 Name  = ',torch.cuda.get_device_name(0))\n",
    "else:\n",
    "    print('CUDA NOT supported')"
   ]
  },
  {
   "cell_type": "code",
   "execution_count": null,
   "id": "04add1cf",
   "metadata": {},
   "outputs": [],
   "source": []
  }
 ],
 "metadata": {
  "kernelspec": {
   "display_name": "Python 3",
   "language": "python",
   "name": "python3"
  },
  "language_info": {
   "codemirror_mode": {
    "name": "ipython",
    "version": 3
   },
   "file_extension": ".py",
   "mimetype": "text/x-python",
   "name": "python",
   "nbconvert_exporter": "python",
   "pygments_lexer": "ipython3",
   "version": "3.10.10"
  }
 },
 "nbformat": 4,
 "nbformat_minor": 5
}
